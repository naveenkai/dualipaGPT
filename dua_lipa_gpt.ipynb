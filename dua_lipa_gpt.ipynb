{
  "cells": [
    {
      "cell_type": "markdown",
      "metadata": {
        "id": "wJpXpmjEYC_T"
      },
      "source": [
        "## Building a GPT\n",
        "\n",
        "Companion notebook to the [Zero To Hero](https://karpathy.ai/zero-to-hero.html) video on GPT."
      ]
    },
    {
      "cell_type": "code",
      "execution_count": 1,
      "metadata": {
        "colab": {
          "base_uri": "https://localhost:8080/"
        },
        "id": "h5hjCcLDr2WC",
        "outputId": "8db10785-51a2-43b5-c9d2-3a3edf6466cc"
      },
      "outputs": [
        {
          "output_type": "stream",
          "name": "stdout",
          "text": [
            "--2023-11-19 14:38:25--  https://github.com/thenameiswin/dualipaGPT/blob/main/dua_lipa_songs.txt\n",
            "Resolving github.com (github.com)... 140.82.112.3\n",
            "Connecting to github.com (github.com)|140.82.112.3|:443... connected.\n",
            "HTTP request sent, awaiting response... 200 OK\n",
            "Length: 21504 (21K) [text/plain]\n",
            "Saving to: ‘dua_lipa_songs.txt’\n",
            "\n",
            "dua_lipa_songs.txt  100%[===================>]  21.00K  --.-KB/s    in 0.01s   \n",
            "\n",
            "2023-11-19 14:38:25 (1.46 MB/s) - ‘dua_lipa_songs.txt’ saved [21504/21504]\n",
            "\n"
          ]
        }
      ],
      "source": [
        "# We always start with a dataset to train on. Let's download the tiny shakespeare dataset\n",
        "!wget https://github.com/thenameiswin/dualipaGPT/blob/main/dua_lipa_songs.txt"
      ]
    },
    {
      "cell_type": "code",
      "execution_count": 3,
      "metadata": {
        "id": "O6medjfRsLD9"
      },
      "outputs": [],
      "source": [
        "# read it in to inspect it\n",
        "with open('dua_lipa_songs.txt', 'r', encoding='utf-8') as f:\n",
        "    text = f.read()"
      ]
    },
    {
      "cell_type": "code",
      "execution_count": 4,
      "metadata": {
        "colab": {
          "base_uri": "https://localhost:8080/"
        },
        "id": "6xWI_VyAsN8F",
        "outputId": "213ca5cb-e97a-49cd-c1d6-91f83b950b69"
      },
      "outputs": [
        {
          "output_type": "stream",
          "name": "stdout",
          "text": [
            "length of dataset in characters:  21503\n"
          ]
        }
      ],
      "source": [
        "print(\"length of dataset in characters: \", len(text))"
      ]
    },
    {
      "cell_type": "code",
      "execution_count": 5,
      "metadata": {
        "colab": {
          "base_uri": "https://localhost:8080/"
        },
        "id": "2c5V0FvqseE0",
        "outputId": "ed8cc5d3-72af-417c-bc69-186130a3a841"
      },
      "outputs": [
        {
          "output_type": "stream",
          "name": "stdout",
          "text": [
            "{\"payload\":{\"allShortcutsEnabled\":false,\"fileTree\":{\"\":{\"items\":[{\"name\":\"dua_lipa_songs.txt\",\"path\":\"dua_lipa_songs.txt\",\"contentType\":\"file\"}],\"totalCount\":1}},\"fileTreeProcessingTime\":1.405471,\"foldersToFetch\":[],\"reducedMotionEnabled\":null,\"repo\":{\"id\":720764890,\"defaultBranch\":\"main\",\"name\":\"dualipaGPT\",\"ownerLogin\":\"thenameiswin\",\"currentUserCanPush\":false,\"isFork\":false,\"isEmpty\":false,\"createdAt\":\"2023-11-19T14:34:56.000Z\",\"ownerAvatar\":\"https://avatars.githubusercontent.com/u/96463561?v=4\",\"public\":true,\"private\":false,\"isOrgOwned\":false},\"symbolsExpanded\":false,\"treeExpanded\":true,\"refInfo\":{\"name\":\"main\",\"listCacheKey\":\"v0:1700404525.0\",\"canEdit\":false,\"refType\":\"branch\",\"currentOid\":\"f15d86cee7e4db8a8164c31f5b0b8ec3a259db37\"},\"path\":\"dua_lipa_songs.txt\",\"currentUser\":null,\"blob\":{\"rawLines\":[\"If you don't wanna see me\\r\",\"Did a full 180, crazy\\r\",\"Thinking 'bout the way I was\\r\",\"Did the heartbreak change me? Maybe\\r\",\"But look at where I ended up\\r\",\"I'm all good already\\r\n"
          ]
        }
      ],
      "source": [
        "# let's look at the first 1000 characters\n",
        "print(text[:1000])"
      ]
    },
    {
      "cell_type": "code",
      "execution_count": 6,
      "metadata": {
        "colab": {
          "base_uri": "https://localhost:8080/"
        },
        "id": "0e-Rbyr8sfM8",
        "outputId": "f4336f57-9958-402b-d9dc-9115d6655b5d"
      },
      "outputs": [
        {
          "output_type": "stream",
          "name": "stdout",
          "text": [
            " \"%'(),-./0123456789:=?ABCDEFGHIJKLMNOPQRSTUVWXYZ[\\]_abcdefghijklmnopqrstuvwxyz{}·\n",
            "82\n"
          ]
        }
      ],
      "source": [
        "# here are all the unique characters that occur in this text\n",
        "chars = sorted(list(set(text)))\n",
        "vocab_size = len(chars)\n",
        "print(''.join(chars))\n",
        "print(vocab_size)"
      ]
    },
    {
      "cell_type": "code",
      "execution_count": 7,
      "metadata": {
        "colab": {
          "base_uri": "https://localhost:8080/"
        },
        "id": "Yw1LKNCgwjj1",
        "outputId": "691b524e-e005-4120-cd62-89429bce94c4"
      },
      "outputs": [
        {
          "output_type": "stream",
          "name": "stdout",
          "text": [
            "[60, 61, 61, 0, 72, 60, 57, 70, 57]\n",
            "hii there\n"
          ]
        }
      ],
      "source": [
        "# create a mapping from characters to integers\n",
        "stoi = { ch:i for i,ch in enumerate(chars) }\n",
        "itos = { i:ch for i,ch in enumerate(chars) }\n",
        "encode = lambda s: [stoi[c] for c in s] # encoder: take a string, output a list of integers\n",
        "decode = lambda l: ''.join([itos[i] for i in l]) # decoder: take a list of integers, output a string\n",
        "\n",
        "print(encode(\"hii there\"))\n",
        "print(decode(encode(\"hii there\")))"
      ]
    },
    {
      "cell_type": "code",
      "execution_count": 8,
      "metadata": {
        "colab": {
          "base_uri": "https://localhost:8080/"
        },
        "id": "YJb0OXPwzvqg",
        "outputId": "8b30ee23-f565-4d39-b1db-f84ea6dc6275"
      },
      "outputs": [
        {
          "output_type": "stream",
          "name": "stdout",
          "text": [
            "torch.Size([21503]) torch.int64\n",
            "tensor([79,  1, 68, 53, 77, 64, 67, 53, 56,  1, 20, 79,  1, 53, 64, 64, 41, 60,\n",
            "        67, 70, 72, 55, 73, 72, 71, 27, 66, 53, 54, 64, 57, 56,  1, 20, 58, 53,\n",
            "        64, 71, 57,  6,  1, 58, 61, 64, 57, 42, 70, 57, 57,  1, 20, 79,  1,  1,\n",
            "        20, 79,  1, 61, 72, 57, 65, 71,  1, 20, 49, 79,  1, 66, 53, 65, 57,  1,\n",
            "        20,  1, 56, 73, 53, 52, 64, 61, 68, 53, 52, 71, 67, 66, 59, 71,  8, 72,\n",
            "        76, 72,  1,  6,  1, 68, 53, 72, 60,  1, 20,  1, 56, 73, 53, 52, 64, 61,\n",
            "        68, 53, 52, 71, 67, 66, 59, 71,  8, 72, 76, 72,  1,  6,  1, 55, 67, 66,\n",
            "        72, 57, 66, 72, 42, 77, 68, 57,  1, 20,  1, 58, 61, 64, 57,  1, 80, 51,\n",
            "         6,  1, 72, 67, 72, 53, 64, 25, 67, 73, 66, 72,  1, 20, 11, 80, 80,  6,\n",
            "         1, 58, 61, 64, 57, 42, 70, 57, 57, 38, 70, 67, 55, 57, 71, 71, 61, 66,\n",
            "        59, 42, 61, 65, 57,  1, 20, 11,  8, 14, 10, 15, 14, 17, 11,  6,  1, 58,\n",
            "        67, 64, 56, 57, 70, 71, 42, 67, 28, 57, 72, 55, 60,  1, 20, 49, 51,  6,\n",
            "         1, 70, 57, 56, 73, 55, 57, 56, 35, 67, 72, 61, 67, 66, 27, 66, 53, 54,\n",
            "        64, 57, 56,  1, 20, 66, 73, 64, 64,  6,  1, 70, 57, 68, 67,  1, 20, 79,\n",
            "         1, 61, 56,  1, 20, 17, 12, 10, 17, 16, 14, 18, 19, 10,  6,  1, 56, 57,\n",
            "        58, 53, 73, 64, 72, 24, 70, 53, 66, 55, 60,  1, 20,  1, 65, 53, 61, 66,\n",
            "         1,  6,  1, 66, 53, 65, 57,  1, 20,  1, 56, 73, 53, 64, 61, 68, 53, 29,\n",
            "        38, 42,  1,  6,  1, 67, 75, 66, 57, 70, 34, 67, 59, 61, 66,  1, 20,  1,\n",
            "        72, 60, 57, 66, 53, 65, 57, 61, 71, 75, 61, 66,  1,  6,  1, 55, 73, 70,\n",
            "        70, 57, 66, 72, 43, 71, 57, 70, 25, 53, 66, 38, 73, 71, 60,  1, 20, 58,\n",
            "        53, 64, 71, 57,  6,  1, 61, 71, 28, 67, 70, 63,  1, 20, 58, 53, 64, 71,\n",
            "        57,  6,  1, 61, 71, 27, 65, 68, 72, 77,  1, 20, 58, 53, 64, 71, 57,  6,\n",
            "         1, 55, 70, 57, 53, 72, 57, 56, 23, 72,  1, 20,  1, 12, 10, 12, 13,  7,\n",
            "        11, 11,  7, 11, 19, 42, 11, 14, 20, 13, 14, 20, 15, 16,  8, 10, 10, 10,\n",
            "        48,  1,  6,  1, 67, 75, 66, 57, 70, 23, 74, 53, 72, 53, 70,  1, 20,  1,\n",
            "        60, 72, 72, 68, 71, 20,  9,  9, 53, 74, 53, 72, 53, 70, 71,  8, 59, 61,\n",
            "        72, 60, 73, 54, 73, 71, 57, 70, 55, 67, 66, 72, 57, 66, 72,  8, 55, 67,\n",
            "        65,  9, 73,  9, 19, 16, 14, 16, 13, 15, 16, 11, 22, 74, 21, 14,  1,  6,\n",
            "         1, 68, 73, 54, 64, 61, 55,  1, 20, 72, 70, 73, 57,  6,  1, 68, 70, 61,\n",
            "        74, 53, 72, 57,  1, 20, 58, 53, 64, 71, 57,  6,  1, 61, 71, 37, 70, 59,\n",
            "        37, 75, 66, 57, 56,  1, 20, 58, 53, 64, 71, 57, 80,  6,  1, 71, 77, 65,\n",
            "        54, 67, 64, 71, 27, 76, 68, 53, 66, 56, 57, 56,  1, 20, 58, 53, 64, 71,\n",
            "        57,  6,  1, 72, 70, 57, 57, 27, 76, 68, 53, 66, 56, 57, 56,  1, 20, 72,\n",
            "        70, 73, 57,  6,  1, 70, 57, 58, 31, 66, 58, 67,  1, 20, 79,  1, 66, 53,\n",
            "        65, 57,  1, 20,  1, 65, 53, 61, 66,  1,  6,  1, 64, 61, 71, 72, 25, 53,\n",
            "        55, 60, 57, 33, 57, 77,  1, 20,  1, 74, 10, 20, 11, 17, 10, 10, 14, 10,\n",
            "        14, 15, 12, 15,  8, 10,  1,  6,  1, 55, 53, 66, 27, 56, 61, 72,  1, 20,\n",
            "        58, 53, 64, 71, 57,  6,  1, 70, 57, 58, 42, 77, 68, 57,  1, 20,  1, 54,\n",
            "        70, 53, 66, 55, 60,  1,  6,  1, 55, 73, 70, 70, 57, 66, 72, 37, 61, 56,\n",
            "         1, 20,  1, 58, 11, 15, 56, 18, 16, 55, 57, 57, 17, 57, 14, 56, 54, 18,\n",
            "        53, 18, 11, 16, 14, 55, 13, 11, 58, 15, 54, 10, 54, 18, 57, 55, 13, 53,\n",
            "        12, 15, 19, 56, 54, 13, 17,  1, 80,  6,  1, 68, 53, 72, 60,  1, 20,  1,\n",
            "        56, 73, 53, 52, 64, 61, 68, 53, 52, 71, 67, 66, 59, 71,  8, 72, 76, 72,\n",
            "         1,  6,  1, 55, 73, 70, 70, 57, 66, 72, 43, 71, 57, 70,  1, 20, 66, 73,\n",
            "        64, 64,  6,  1, 54, 64, 67, 54,  1, 20, 79,  1, 70, 53, 75, 34, 61, 66,\n",
            "        57, 71,  1, 20, 49,  1, 31, 58,  0, 77, 67, 73,  0, 56, 67, 66,  3, 72,\n",
            "         0, 75, 53, 66, 66, 53,  0, 71, 57, 57,  0, 65, 57, 50, 70,  1,  6,  1,\n",
            "        26, 61, 56,  0, 53,  0, 58, 73, 64, 64,  0, 11, 18, 10,  6,  0, 55, 70,\n",
            "        53, 78, 77, 50, 70,  1,  6,  1, 42, 60, 61, 66, 63, 61, 66, 59,  0,  3,\n",
            "        54, 67, 73, 72,  0, 72, 60, 57,  0, 75, 53, 77,  0, 31,  0, 75, 53, 71,\n",
            "        50, 70,  1,  6,  1, 26, 61, 56,  0, 72, 60, 57,  0, 60, 57, 53, 70, 72,\n",
            "        54, 70, 57, 53, 63,  0, 55, 60, 53, 66, 59, 57,  0, 65, 57, 22,  0, 35,\n",
            "        53, 77, 54, 57, 50, 70,  1,  6,  1, 24, 73, 72,  0, 64, 67, 67, 63,  0,\n",
            "        53, 72,  0, 75, 60, 57, 70, 57,  0, 31,  0, 57, 66, 56, 57, 56,  0, 73,\n",
            "        68, 50, 70,  1,  6,  1, 31,  3, 65,  0, 53, 64, 64,  0, 59, 67, 67, 56,\n",
            "         0, 53, 64, 70, 57, 53, 56, 77, 50, 70])\n"
          ]
        }
      ],
      "source": [
        "# let's now encode the entire text dataset and store it into a torch.Tensor\n",
        "import torch # we use PyTorch: https://pytorch.org\n",
        "data = torch.tensor(encode(text), dtype=torch.long)\n",
        "print(data.shape, data.dtype)\n",
        "print(data[:1000]) # the 1000 characters we looked at earier will to the GPT look like this"
      ]
    },
    {
      "cell_type": "code",
      "execution_count": 9,
      "metadata": {
        "id": "f_WIXqxz0lU5"
      },
      "outputs": [],
      "source": [
        "# Let's now split up the data into train and validation sets\n",
        "n = int(0.9*len(data)) # first 90% will be train, rest val\n",
        "train_data = data[:n]\n",
        "val_data = data[n:]"
      ]
    },
    {
      "cell_type": "code",
      "execution_count": 10,
      "metadata": {
        "colab": {
          "base_uri": "https://localhost:8080/"
        },
        "id": "TD5Bj8Y6IAD4",
        "outputId": "fb7b1b1f-4f42-4fbb-8d59-571e4340b20f"
      },
      "outputs": [
        {
          "output_type": "execute_result",
          "data": {
            "text/plain": [
              "tensor([79,  1, 68, 53, 77, 64, 67, 53, 56])"
            ]
          },
          "metadata": {},
          "execution_count": 10
        }
      ],
      "source": [
        "block_size = 8\n",
        "train_data[:block_size+1]"
      ]
    },
    {
      "cell_type": "code",
      "execution_count": 11,
      "metadata": {
        "colab": {
          "base_uri": "https://localhost:8080/"
        },
        "id": "9HXDe8vGJCEn",
        "outputId": "d0fdd28a-c6ca-4370-8d7e-f9bfbfab3923"
      },
      "outputs": [
        {
          "output_type": "stream",
          "name": "stdout",
          "text": [
            "when input is tensor([79]) the target: 1\n",
            "when input is tensor([79,  1]) the target: 68\n",
            "when input is tensor([79,  1, 68]) the target: 53\n",
            "when input is tensor([79,  1, 68, 53]) the target: 77\n",
            "when input is tensor([79,  1, 68, 53, 77]) the target: 64\n",
            "when input is tensor([79,  1, 68, 53, 77, 64]) the target: 67\n",
            "when input is tensor([79,  1, 68, 53, 77, 64, 67]) the target: 53\n",
            "when input is tensor([79,  1, 68, 53, 77, 64, 67, 53]) the target: 56\n"
          ]
        }
      ],
      "source": [
        "x = train_data[:block_size]\n",
        "y = train_data[1:block_size+1]\n",
        "for t in range(block_size):\n",
        "    context = x[:t+1]\n",
        "    target = y[t]\n",
        "    print(f\"when input is {context} the target: {target}\")"
      ]
    },
    {
      "cell_type": "code",
      "execution_count": 12,
      "metadata": {
        "colab": {
          "base_uri": "https://localhost:8080/"
        },
        "id": "Q3k1Czf7LuA9",
        "outputId": "a8515fd8-03a5-40e5-c980-e46094c5c6c5"
      },
      "outputs": [
        {
          "output_type": "stream",
          "name": "stdout",
          "text": [
            "inputs:\n",
            "torch.Size([4, 8])\n",
            "tensor([[66,  3, 72,  0, 66, 67,  0, 64],\n",
            "        [66, 59, 71,  8, 72, 76, 72,  1],\n",
            "        [71, 57, 57,  0, 77, 67, 73,  0],\n",
            "        [ 0, 11, 18, 10,  6,  0, 55, 70]])\n",
            "targets:\n",
            "torch.Size([4, 8])\n",
            "tensor([[ 3, 72,  0, 66, 67,  0, 64, 57],\n",
            "        [59, 71,  8, 72, 76, 72,  1,  6],\n",
            "        [57, 57,  0, 77, 67, 73,  0, 54],\n",
            "        [11, 18, 10,  6,  0, 55, 70, 53]])\n",
            "----\n",
            "when input is [66] the target: 3\n",
            "when input is [66, 3] the target: 72\n",
            "when input is [66, 3, 72] the target: 0\n",
            "when input is [66, 3, 72, 0] the target: 66\n",
            "when input is [66, 3, 72, 0, 66] the target: 67\n",
            "when input is [66, 3, 72, 0, 66, 67] the target: 0\n",
            "when input is [66, 3, 72, 0, 66, 67, 0] the target: 64\n",
            "when input is [66, 3, 72, 0, 66, 67, 0, 64] the target: 57\n",
            "when input is [66] the target: 59\n",
            "when input is [66, 59] the target: 71\n",
            "when input is [66, 59, 71] the target: 8\n",
            "when input is [66, 59, 71, 8] the target: 72\n",
            "when input is [66, 59, 71, 8, 72] the target: 76\n",
            "when input is [66, 59, 71, 8, 72, 76] the target: 72\n",
            "when input is [66, 59, 71, 8, 72, 76, 72] the target: 1\n",
            "when input is [66, 59, 71, 8, 72, 76, 72, 1] the target: 6\n",
            "when input is [71] the target: 57\n",
            "when input is [71, 57] the target: 57\n",
            "when input is [71, 57, 57] the target: 0\n",
            "when input is [71, 57, 57, 0] the target: 77\n",
            "when input is [71, 57, 57, 0, 77] the target: 67\n",
            "when input is [71, 57, 57, 0, 77, 67] the target: 73\n",
            "when input is [71, 57, 57, 0, 77, 67, 73] the target: 0\n",
            "when input is [71, 57, 57, 0, 77, 67, 73, 0] the target: 54\n",
            "when input is [0] the target: 11\n",
            "when input is [0, 11] the target: 18\n",
            "when input is [0, 11, 18] the target: 10\n",
            "when input is [0, 11, 18, 10] the target: 6\n",
            "when input is [0, 11, 18, 10, 6] the target: 0\n",
            "when input is [0, 11, 18, 10, 6, 0] the target: 55\n",
            "when input is [0, 11, 18, 10, 6, 0, 55] the target: 70\n",
            "when input is [0, 11, 18, 10, 6, 0, 55, 70] the target: 53\n"
          ]
        }
      ],
      "source": [
        "torch.manual_seed(1337)\n",
        "batch_size = 4 # how many independent sequences will we process in parallel?\n",
        "block_size = 8 # what is the maximum context length for predictions?\n",
        "\n",
        "def get_batch(split):\n",
        "    # generate a small batch of data of inputs x and targets y\n",
        "    data = train_data if split == 'train' else val_data\n",
        "    ix = torch.randint(len(data) - block_size, (batch_size,))\n",
        "    x = torch.stack([data[i:i+block_size] for i in ix])\n",
        "    y = torch.stack([data[i+1:i+block_size+1] for i in ix])\n",
        "    return x, y\n",
        "\n",
        "xb, yb = get_batch('train')\n",
        "print('inputs:')\n",
        "print(xb.shape)\n",
        "print(xb)\n",
        "print('targets:')\n",
        "print(yb.shape)\n",
        "print(yb)\n",
        "\n",
        "print('----')\n",
        "\n",
        "for b in range(batch_size): # batch dimension\n",
        "    for t in range(block_size): # time dimension\n",
        "        context = xb[b, :t+1]\n",
        "        target = yb[b,t]\n",
        "        print(f\"when input is {context.tolist()} the target: {target}\")"
      ]
    },
    {
      "cell_type": "code",
      "execution_count": 13,
      "metadata": {
        "colab": {
          "base_uri": "https://localhost:8080/"
        },
        "id": "qpyyAeIzQjlO",
        "outputId": "2fb6edd9-3c54-4d5a-ade2-b26c75bb0eac"
      },
      "outputs": [
        {
          "output_type": "stream",
          "name": "stdout",
          "text": [
            "tensor([[66,  3, 72,  0, 66, 67,  0, 64],\n",
            "        [66, 59, 71,  8, 72, 76, 72,  1],\n",
            "        [71, 57, 57,  0, 77, 67, 73,  0],\n",
            "        [ 0, 11, 18, 10,  6,  0, 55, 70]])\n"
          ]
        }
      ],
      "source": [
        "print(xb) # our input to the transformer"
      ]
    },
    {
      "cell_type": "code",
      "execution_count": 14,
      "metadata": {
        "colab": {
          "base_uri": "https://localhost:8080/"
        },
        "id": "nql_1ER53oCf",
        "outputId": "72723a3c-c1bf-407b-bfbc-e6a04877ae49"
      },
      "outputs": [
        {
          "output_type": "stream",
          "name": "stdout",
          "text": [
            "torch.Size([32, 82])\n",
            "tensor(4.8939, grad_fn=<NllLossBackward0>)\n",
            " jF1}jKl5()15[.9j].Zc_}bbUG0Sc1Fr=L=PjrIXGrljfxNA{t\\ WGq(}BjGXbq92l,?4 6CAla=Lo-7uGGTYu2 toxC:2V}/thn\n"
          ]
        }
      ],
      "source": [
        "import torch\n",
        "import torch.nn as nn\n",
        "from torch.nn import functional as F\n",
        "torch.manual_seed(1337)\n",
        "\n",
        "class BigramLanguageModel(nn.Module):\n",
        "\n",
        "    def __init__(self, vocab_size):\n",
        "        super().__init__()\n",
        "        # each token directly reads off the logits for the next token from a lookup table\n",
        "        self.token_embedding_table = nn.Embedding(vocab_size, vocab_size)\n",
        "\n",
        "    def forward(self, idx, targets=None):\n",
        "\n",
        "        # idx and targets are both (B,T) tensor of integers\n",
        "        logits = self.token_embedding_table(idx) # (B,T,C)\n",
        "\n",
        "        if targets is None:\n",
        "            loss = None\n",
        "        else:\n",
        "            B, T, C = logits.shape\n",
        "            logits = logits.view(B*T, C)\n",
        "            targets = targets.view(B*T)\n",
        "            loss = F.cross_entropy(logits, targets)\n",
        "\n",
        "        return logits, loss\n",
        "\n",
        "    def generate(self, idx, max_new_tokens):\n",
        "        # idx is (B, T) array of indices in the current context\n",
        "        for _ in range(max_new_tokens):\n",
        "            # get the predictions\n",
        "            logits, loss = self(idx)\n",
        "            # focus only on the last time step\n",
        "            logits = logits[:, -1, :] # becomes (B, C)\n",
        "            # apply softmax to get probabilities\n",
        "            probs = F.softmax(logits, dim=-1) # (B, C)\n",
        "            # sample from the distribution\n",
        "            idx_next = torch.multinomial(probs, num_samples=1) # (B, 1)\n",
        "            # append sampled index to the running sequence\n",
        "            idx = torch.cat((idx, idx_next), dim=1) # (B, T+1)\n",
        "        return idx\n",
        "\n",
        "m = BigramLanguageModel(vocab_size)\n",
        "logits, loss = m(xb, yb)\n",
        "print(logits.shape)\n",
        "print(loss)\n",
        "\n",
        "print(decode(m.generate(idx = torch.zeros((1, 1), dtype=torch.long), max_new_tokens=100)[0].tolist()))\n"
      ]
    },
    {
      "cell_type": "code",
      "execution_count": 15,
      "metadata": {
        "id": "eTyJ8qAaDdiF"
      },
      "outputs": [],
      "source": [
        "# create a PyTorch optimizer\n",
        "optimizer = torch.optim.AdamW(m.parameters(), lr=1e-3)"
      ]
    },
    {
      "cell_type": "code",
      "execution_count": 16,
      "metadata": {
        "colab": {
          "base_uri": "https://localhost:8080/"
        },
        "id": "Hs4kI8YdEkQj",
        "outputId": "9fcc02cc-bf0c-4212-f38f-c0a37f976198"
      },
      "outputs": [
        {
          "output_type": "stream",
          "name": "stdout",
          "text": [
            "4.237448692321777\n"
          ]
        }
      ],
      "source": [
        "batch_size = 32\n",
        "for steps in range(100): # increase number of steps for good results...\n",
        "\n",
        "    # sample a batch of data\n",
        "    xb, yb = get_batch('train')\n",
        "\n",
        "    # evaluate the loss\n",
        "    logits, loss = m(xb, yb)\n",
        "    optimizer.zero_grad(set_to_none=True)\n",
        "    loss.backward()\n",
        "    optimizer.step()\n",
        "\n",
        "print(loss.item())\n"
      ]
    },
    {
      "cell_type": "code",
      "execution_count": 17,
      "metadata": {
        "colab": {
          "base_uri": "https://localhost:8080/"
        },
        "id": "EcVIDWAZEtjN",
        "outputId": "0da61490-0faf-457a-97a1-4e1e50859ada"
      },
      "outputs": [
        {
          "output_type": "stream",
          "name": "stdout",
          "text": [
            " \\=uXBBwez)zfX]ToFFa\\5BH=dd/kAbzcQ·BwzFa,6o9z)p]vz:_l6cY.z]9A6XvC5f[pyS2aKq43]R}eD8)A6cTGd4C9F{bUcs-vvHKFI,3_a\\3/(Udw/D9Xcum{)xP·=hPV,fIIfs /Wt7./t?ZcEv)E yIN.r5\"j9dPkU VU7qtaKLo\\,R5k4·6oDQr[YIg[],V1\\va_v2]RuPZ3iFititpuMuk:_J)-R/5F0laK-JFB3_UywK8ivdGUiWujAeXBWmC%EK8(Q]uT ,%\\DfjYIKQu]kZl.th%U9Gh'v1J')Q]hXYPkeSMOYNS?8):NCe75yHYth3XFng23D9uRedFYTZ(CM\"i7·{G'vCqNc3q\\N/}j6\"Y·FR8zMW7[L\"hlXFCr·1yyiXBiXR:9A8t[\\w=ksyJ.dA6oyF768\\SM%}[Mz]MQ??)SuKghf3pyUUd4dpHmLWs.%jOyHz \\KTk3quTXdn/I(}WstbU=b1aLZBnzbiQ,. ty \n"
          ]
        }
      ],
      "source": [
        "print(decode(m.generate(idx = torch.zeros((1, 1), dtype=torch.long), max_new_tokens=500)[0].tolist()))"
      ]
    },
    {
      "cell_type": "markdown",
      "metadata": {
        "id": "XinV8nmAnmKN"
      },
      "source": [
        "## The mathematical trick in self-attention"
      ]
    },
    {
      "cell_type": "code",
      "execution_count": 18,
      "metadata": {
        "colab": {
          "base_uri": "https://localhost:8080/"
        },
        "id": "tukiH-NbRBhA",
        "outputId": "403820d3-2c91-45c6-e291-289a6259123c"
      },
      "outputs": [
        {
          "output_type": "stream",
          "name": "stdout",
          "text": [
            "a=\n",
            "tensor([[1.0000, 0.0000, 0.0000],\n",
            "        [0.5000, 0.5000, 0.0000],\n",
            "        [0.3333, 0.3333, 0.3333]])\n",
            "--\n",
            "b=\n",
            "tensor([[2., 7.],\n",
            "        [6., 4.],\n",
            "        [6., 5.]])\n",
            "--\n",
            "c=\n",
            "tensor([[2.0000, 7.0000],\n",
            "        [4.0000, 5.5000],\n",
            "        [4.6667, 5.3333]])\n"
          ]
        }
      ],
      "source": [
        "# toy example illustrating how matrix multiplication can be used for a \"weighted aggregation\"\n",
        "torch.manual_seed(42)\n",
        "a = torch.tril(torch.ones(3, 3))\n",
        "a = a / torch.sum(a, 1, keepdim=True)\n",
        "b = torch.randint(0,10,(3,2)).float()\n",
        "c = a @ b\n",
        "print('a=')\n",
        "print(a)\n",
        "print('--')\n",
        "print('b=')\n",
        "print(b)\n",
        "print('--')\n",
        "print('c=')\n",
        "print(c)"
      ]
    },
    {
      "cell_type": "code",
      "execution_count": 19,
      "metadata": {
        "colab": {
          "base_uri": "https://localhost:8080/"
        },
        "id": "Hs_E24uRE8kr",
        "outputId": "285766d5-9b87-477b-d87e-bcc6f17926c6"
      },
      "outputs": [
        {
          "output_type": "execute_result",
          "data": {
            "text/plain": [
              "torch.Size([4, 8, 2])"
            ]
          },
          "metadata": {},
          "execution_count": 19
        }
      ],
      "source": [
        "# consider the following toy example:\n",
        "\n",
        "torch.manual_seed(1337)\n",
        "B,T,C = 4,8,2 # batch, time, channels\n",
        "x = torch.randn(B,T,C)\n",
        "x.shape"
      ]
    },
    {
      "cell_type": "code",
      "execution_count": 20,
      "metadata": {
        "id": "86NuXX0fn7ps"
      },
      "outputs": [],
      "source": [
        "# We want x[b,t] = mean_{i<=t} x[b,i]\n",
        "xbow = torch.zeros((B,T,C))\n",
        "for b in range(B):\n",
        "    for t in range(T):\n",
        "        xprev = x[b,:t+1] # (t,C)\n",
        "        xbow[b,t] = torch.mean(xprev, 0)\n"
      ]
    },
    {
      "cell_type": "code",
      "execution_count": 21,
      "metadata": {
        "colab": {
          "base_uri": "https://localhost:8080/"
        },
        "id": "yhdOAd6-wXkZ",
        "outputId": "716d0f7d-0213-403f-a4dd-bd3da8fe519b"
      },
      "outputs": [
        {
          "output_type": "execute_result",
          "data": {
            "text/plain": [
              "False"
            ]
          },
          "metadata": {},
          "execution_count": 21
        }
      ],
      "source": [
        "# version 2: using matrix multiply for a weighted aggregation\n",
        "wei = torch.tril(torch.ones(T, T))\n",
        "wei = wei / wei.sum(1, keepdim=True)\n",
        "xbow2 = wei @ x # (B, T, T) @ (B, T, C) ----> (B, T, C)\n",
        "torch.allclose(xbow, xbow2)"
      ]
    },
    {
      "cell_type": "code",
      "execution_count": 22,
      "metadata": {
        "colab": {
          "base_uri": "https://localhost:8080/"
        },
        "id": "wOURrfG-ysoL",
        "outputId": "af0afa53-12f6-4a42-9a59-5a499e2da57f"
      },
      "outputs": [
        {
          "output_type": "execute_result",
          "data": {
            "text/plain": [
              "False"
            ]
          },
          "metadata": {},
          "execution_count": 22
        }
      ],
      "source": [
        "# version 3: use Softmax\n",
        "tril = torch.tril(torch.ones(T, T))\n",
        "wei = torch.zeros((T,T))\n",
        "wei = wei.masked_fill(tril == 0, float('-inf'))\n",
        "wei = F.softmax(wei, dim=-1)\n",
        "xbow3 = wei @ x\n",
        "torch.allclose(xbow, xbow3)\n"
      ]
    },
    {
      "cell_type": "code",
      "execution_count": 23,
      "metadata": {
        "colab": {
          "base_uri": "https://localhost:8080/"
        },
        "id": "EDarxEWIRMKq",
        "outputId": "f763a413-dbf8-482e-d6b2-c0c701822c64"
      },
      "outputs": [
        {
          "output_type": "execute_result",
          "data": {
            "text/plain": [
              "torch.Size([4, 8, 16])"
            ]
          },
          "metadata": {},
          "execution_count": 23
        }
      ],
      "source": [
        "# version 4: self-attention!\n",
        "torch.manual_seed(1337)\n",
        "B,T,C = 4,8,32 # batch, time, channels\n",
        "x = torch.randn(B,T,C)\n",
        "\n",
        "# let's see a single Head perform self-attention\n",
        "head_size = 16\n",
        "key = nn.Linear(C, head_size, bias=False)\n",
        "query = nn.Linear(C, head_size, bias=False)\n",
        "value = nn.Linear(C, head_size, bias=False)\n",
        "k = key(x)   # (B, T, 16)\n",
        "q = query(x) # (B, T, 16)\n",
        "wei =  q @ k.transpose(-2, -1) # (B, T, 16) @ (B, 16, T) ---> (B, T, T)\n",
        "\n",
        "tril = torch.tril(torch.ones(T, T))\n",
        "#wei = torch.zeros((T,T))\n",
        "wei = wei.masked_fill(tril == 0, float('-inf'))\n",
        "wei = F.softmax(wei, dim=-1)\n",
        "\n",
        "v = value(x)\n",
        "out = wei @ v\n",
        "#out = wei @ x\n",
        "\n",
        "out.shape"
      ]
    },
    {
      "cell_type": "code",
      "execution_count": 24,
      "metadata": {
        "colab": {
          "base_uri": "https://localhost:8080/"
        },
        "id": "vT1hdtzXCjgL",
        "outputId": "ad6e1b4a-1648-4baf-9c43-10c369a125ad"
      },
      "outputs": [
        {
          "output_type": "execute_result",
          "data": {
            "text/plain": [
              "tensor([[1.0000, 0.0000, 0.0000, 0.0000, 0.0000, 0.0000, 0.0000, 0.0000],\n",
              "        [0.1574, 0.8426, 0.0000, 0.0000, 0.0000, 0.0000, 0.0000, 0.0000],\n",
              "        [0.2088, 0.1646, 0.6266, 0.0000, 0.0000, 0.0000, 0.0000, 0.0000],\n",
              "        [0.5792, 0.1187, 0.1889, 0.1131, 0.0000, 0.0000, 0.0000, 0.0000],\n",
              "        [0.0294, 0.1052, 0.0469, 0.0276, 0.7909, 0.0000, 0.0000, 0.0000],\n",
              "        [0.0176, 0.2689, 0.0215, 0.0089, 0.6812, 0.0019, 0.0000, 0.0000],\n",
              "        [0.1691, 0.4066, 0.0438, 0.0416, 0.1048, 0.2012, 0.0329, 0.0000],\n",
              "        [0.0210, 0.0843, 0.0555, 0.2297, 0.0573, 0.0709, 0.2423, 0.2391]],\n",
              "       grad_fn=<SelectBackward0>)"
            ]
          },
          "metadata": {},
          "execution_count": 24
        }
      ],
      "source": [
        "wei[0]"
      ]
    },
    {
      "cell_type": "markdown",
      "metadata": {
        "id": "M5CvobiQ0pLr"
      },
      "source": [
        "Notes:\n",
        "- Attention is a **communication mechanism**. Can be seen as nodes in a directed graph looking at each other and aggregating information with a weighted sum from all nodes that point to them, with data-dependent weights.\n",
        "- There is no notion of space. Attention simply acts over a set of vectors. This is why we need to positionally encode tokens.\n",
        "- Each example across batch dimension is of course processed completely independently and never \"talk\" to each other\n",
        "- In an \"encoder\" attention block just delete the single line that does masking with `tril`, allowing all tokens to communicate. This block here is called a \"decoder\" attention block because it has triangular masking, and is usually used in autoregressive settings, like language modeling.\n",
        "- \"self-attention\" just means that the keys and values are produced from the same source as queries. In \"cross-attention\", the queries still get produced from x, but the keys and values come from some other, external source (e.g. an encoder module)\n",
        "- \"Scaled\" attention additional divides `wei` by 1/sqrt(head_size). This makes it so when input Q,K are unit variance, wei will be unit variance too and Softmax will stay diffuse and not saturate too much. Illustration below"
      ]
    },
    {
      "cell_type": "code",
      "execution_count": 25,
      "metadata": {
        "id": "4SNbLq5z3oBw"
      },
      "outputs": [],
      "source": [
        "k = torch.randn(B,T,head_size)\n",
        "q = torch.randn(B,T,head_size)\n",
        "wei = q @ k.transpose(-2, -1) * head_size**-0.5"
      ]
    },
    {
      "cell_type": "code",
      "execution_count": 26,
      "metadata": {
        "colab": {
          "base_uri": "https://localhost:8080/"
        },
        "id": "Nl6I9n9IRTSo",
        "outputId": "03446f35-32ce-4610-8d51-fe9d20f3b6d9"
      },
      "outputs": [
        {
          "output_type": "execute_result",
          "data": {
            "text/plain": [
              "tensor(1.0449)"
            ]
          },
          "metadata": {},
          "execution_count": 26
        }
      ],
      "source": [
        "k.var()"
      ]
    },
    {
      "cell_type": "code",
      "execution_count": 27,
      "metadata": {
        "colab": {
          "base_uri": "https://localhost:8080/"
        },
        "id": "T1tQx7oeRvtc",
        "outputId": "e15072cf-5866-4371-c620-10c6eee2d198"
      },
      "outputs": [
        {
          "output_type": "execute_result",
          "data": {
            "text/plain": [
              "tensor(1.0700)"
            ]
          },
          "metadata": {},
          "execution_count": 27
        }
      ],
      "source": [
        "q.var()"
      ]
    },
    {
      "cell_type": "code",
      "execution_count": 28,
      "metadata": {
        "colab": {
          "base_uri": "https://localhost:8080/"
        },
        "id": "MLb_odHU3iKM",
        "outputId": "c6233ad0-7320-4000-fa61-265b8c8ced9f"
      },
      "outputs": [
        {
          "output_type": "execute_result",
          "data": {
            "text/plain": [
              "tensor(1.0918)"
            ]
          },
          "metadata": {},
          "execution_count": 28
        }
      ],
      "source": [
        "wei.var()"
      ]
    },
    {
      "cell_type": "code",
      "execution_count": 29,
      "metadata": {
        "colab": {
          "base_uri": "https://localhost:8080/"
        },
        "id": "JB82yzt44REI",
        "outputId": "e12097cb-ddc9-45f8-d72a-cb593d726edc"
      },
      "outputs": [
        {
          "output_type": "execute_result",
          "data": {
            "text/plain": [
              "tensor([0.1925, 0.1426, 0.2351, 0.1426, 0.2872])"
            ]
          },
          "metadata": {},
          "execution_count": 29
        }
      ],
      "source": [
        "torch.softmax(torch.tensor([0.1, -0.2, 0.3, -0.2, 0.5]), dim=-1)"
      ]
    },
    {
      "cell_type": "code",
      "execution_count": 30,
      "metadata": {
        "colab": {
          "base_uri": "https://localhost:8080/"
        },
        "id": "Mpt8569BB9_f",
        "outputId": "bde653fa-eae1-421c-9607-7c6b5c19a90c"
      },
      "outputs": [
        {
          "output_type": "execute_result",
          "data": {
            "text/plain": [
              "tensor([0.0326, 0.0030, 0.1615, 0.0030, 0.8000])"
            ]
          },
          "metadata": {},
          "execution_count": 30
        }
      ],
      "source": [
        "torch.softmax(torch.tensor([0.1, -0.2, 0.3, -0.2, 0.5])*8, dim=-1) # gets too peaky, converges to one-hot"
      ]
    },
    {
      "cell_type": "code",
      "execution_count": 31,
      "metadata": {
        "colab": {
          "base_uri": "https://localhost:8080/"
        },
        "id": "2Num7sX9CKOH",
        "outputId": "7b3395fa-c147-4543-8fd2-eb4b0cf73c72"
      },
      "outputs": [
        {
          "output_type": "execute_result",
          "data": {
            "text/plain": [
              "torch.Size([32, 100])"
            ]
          },
          "metadata": {},
          "execution_count": 31
        }
      ],
      "source": [
        "class LayerNorm1d: # (used to be BatchNorm1d)\n",
        "\n",
        "  def __init__(self, dim, eps=1e-5, momentum=0.1):\n",
        "    self.eps = eps\n",
        "    self.gamma = torch.ones(dim)\n",
        "    self.beta = torch.zeros(dim)\n",
        "\n",
        "  def __call__(self, x):\n",
        "    # calculate the forward pass\n",
        "    xmean = x.mean(1, keepdim=True) # batch mean\n",
        "    xvar = x.var(1, keepdim=True) # batch variance\n",
        "    xhat = (x - xmean) / torch.sqrt(xvar + self.eps) # normalize to unit variance\n",
        "    self.out = self.gamma * xhat + self.beta\n",
        "    return self.out\n",
        "\n",
        "  def parameters(self):\n",
        "    return [self.gamma, self.beta]\n",
        "\n",
        "torch.manual_seed(1337)\n",
        "module = LayerNorm1d(100)\n",
        "x = torch.randn(32, 100) # batch size 32 of 100-dimensional vectors\n",
        "x = module(x)\n",
        "x.shape"
      ]
    },
    {
      "cell_type": "code",
      "execution_count": 32,
      "metadata": {
        "colab": {
          "base_uri": "https://localhost:8080/"
        },
        "id": "633T2cmnW1uk",
        "outputId": "534ee06f-e59b-41a1-b671-2f568bcf10eb"
      },
      "outputs": [
        {
          "output_type": "execute_result",
          "data": {
            "text/plain": [
              "(tensor(0.1469), tensor(0.8803))"
            ]
          },
          "metadata": {},
          "execution_count": 32
        }
      ],
      "source": [
        "x[:,0].mean(), x[:,0].std() # mean,std of one feature across all batch inputs"
      ]
    },
    {
      "cell_type": "code",
      "execution_count": 33,
      "metadata": {
        "colab": {
          "base_uri": "https://localhost:8080/"
        },
        "id": "LN9cK9BoXCYb",
        "outputId": "f9dca38d-d48e-4e3a-93ec-fa989c76b8bc"
      },
      "outputs": [
        {
          "output_type": "execute_result",
          "data": {
            "text/plain": [
              "(tensor(-9.5367e-09), tensor(1.0000))"
            ]
          },
          "metadata": {},
          "execution_count": 33
        }
      ],
      "source": [
        "x[0,:].mean(), x[0,:].std() # mean,std of a single input from the batch, of its features"
      ]
    },
    {
      "cell_type": "code",
      "execution_count": 34,
      "metadata": {
        "id": "dRJH6wM_XFfU"
      },
      "outputs": [],
      "source": [
        "# French to English translation example:\n",
        "\n",
        "# <--------- ENCODE ------------------><--------------- DECODE ----------------->\n",
        "# les réseaux de neurones sont géniaux! <START> neural networks are awesome!<END>\n",
        "\n"
      ]
    },
    {
      "cell_type": "markdown",
      "metadata": {
        "id": "ZcvKeBXoZFOY"
      },
      "source": [
        "### Full finished code, for reference\n",
        "\n",
        "You may want to refer directly to the git repo instead though."
      ]
    },
    {
      "cell_type": "code",
      "execution_count": 36,
      "metadata": {
        "colab": {
          "base_uri": "https://localhost:8080/"
        },
        "id": "hoelkOrFY8bN",
        "outputId": "fa0577af-f479-4333-a6d8-72d327610f45"
      },
      "outputs": [
        {
          "output_type": "stream",
          "name": "stdout",
          "text": [
            "0.211922 M parameters\n",
            "step 0: train loss 4.5807, val loss 4.5937\n",
            "step 100: train loss 2.3075, val loss 3.7501\n",
            "step 200: train loss 2.0510, val loss 3.5675\n",
            "step 300: train loss 1.9345, val loss 3.3854\n",
            "step 400: train loss 1.7835, val loss 3.3109\n",
            "step 500: train loss 1.6079, val loss 3.2650\n",
            "step 600: train loss 1.4848, val loss 3.1775\n",
            "step 700: train loss 1.3254, val loss 3.1612\n",
            "step 800: train loss 1.2192, val loss 3.0671\n",
            "step 900: train loss 1.1312, val loss 3.1581\n",
            "step 1000: train loss 1.0198, val loss 3.0288\n",
            "step 1100: train loss 0.9454, val loss 3.1049\n",
            "step 1200: train loss 0.8570, val loss 3.0102\n",
            "step 1300: train loss 0.7832, val loss 3.1252\n",
            "step 1400: train loss 0.7267, val loss 3.1741\n",
            "step 1500: train loss 0.6944, val loss 3.2284\n",
            "step 1600: train loss 0.6275, val loss 3.2758\n",
            "step 1700: train loss 0.5695, val loss 3.3293\n",
            "step 1800: train loss 0.5464, val loss 3.4206\n",
            "step 1900: train loss 0.5199, val loss 3.4024\n",
            "step 2000: train loss 0.4964, val loss 3.4569\n",
            "step 2100: train loss 0.4661, val loss 3.5883\n",
            "step 2200: train loss 0.4413, val loss 3.6018\n",
            "step 2300: train loss 0.4224, val loss 3.6940\n",
            "step 2400: train loss 0.4102, val loss 3.7232\n",
            "step 2500: train loss 0.3888, val loss 3.7308\n",
            "step 2600: train loss 0.3872, val loss 3.9004\n",
            "step 2700: train loss 0.3773, val loss 3.9260\n",
            "step 2800: train loss 0.3679, val loss 3.8163\n",
            "step 2900: train loss 0.3642, val loss 3.9752\n",
            "step 3000: train loss 0.3418, val loss 3.9963\n",
            "step 3100: train loss 0.3377, val loss 4.1305\n",
            "step 3200: train loss 0.3347, val loss 4.1686\n",
            "step 3300: train loss 0.3283, val loss 4.0432\n",
            "step 3400: train loss 0.3241, val loss 4.2476\n",
            "step 3500: train loss 0.3162, val loss 4.1980\n",
            "step 3600: train loss 0.3178, val loss 4.2168\n",
            "step 3700: train loss 0.3115, val loss 4.1656\n",
            "step 3800: train loss 0.3120, val loss 4.3244\n",
            "step 3900: train loss 0.3002, val loss 4.2562\n",
            "step 4000: train loss 0.3006, val loss 4.4995\n",
            "step 4100: train loss 0.3011, val loss 4.3195\n",
            "step 4200: train loss 0.2972, val loss 4.2745\n",
            "step 4300: train loss 0.2953, val loss 4.4020\n",
            "step 4400: train loss 0.2891, val loss 4.4274\n",
            "step 4500: train loss 0.2883, val loss 4.4033\n",
            "step 4600: train loss 0.2848, val loss 4.3416\n",
            "step 4700: train loss 0.2845, val loss 4.4729\n",
            "step 4800: train loss 0.2795, val loss 4.5317\n",
            "step 4900: train loss 0.2933, val loss 4.5229\n",
            "step 4999: train loss 0.2858, val loss 4.6153\n",
            " with the one that could break my heart?\\r\",\"Oh no, I was born yestels it, I not one, I nees done\\r\",\"Two: Don't let him in, you have to kick him out again\\r\",\"Three: Don't be his friend caught you can try any\\r\",\"Thh, get up off your knees\\r\",\"'Cause, boy, I don't give a fuck\\r\",\"I see you tryna gettinin' of Don't starlight in you, for in my me\\r\",\"The feeling won't let me sleep\\r\",\"'Cause I'm lost in the way you move, the way you feelree?\\r\",\"Thinking in you was e you miss me\\r\",\"Ougain' if your mind\\r\",\"Two just it it could do to me\\r\",\"Think mysical)\\r\",\"I'm \\r\",\"If you I mandes to git to me courv\\r\",\"I see up tronight\\r\",\"Baby, let me take you for a ride\\r\",\"Yeah, yeah, yeah, yeah, yeah, yeah (let (love my blan\\r\",\"Now I'm feel leving\\r\",\"I gotta tell them to myself\\r\",\"I'm I _8ang my back\\r\",\"I falliname\\r\",\"That wan prop me feel your knees\\r\",\"'Cause, boy, I don't give anna wheas pattern in me\\r\",\"The feeling won't let me sleep\\r\",\"'Cause I was don't love me, so I tell my if you're ready\\r\",\"My love\\r\",\"Hur\"I love you want it, baby\\r\",\"I ha're ree? Don't you agree\\r\",\"You have keep now there noise\\r\",\"But love you why\\r\",\"You say you're sorry\\r\",\"But it's too late now\\r\",\"So save it, get gone, (Ton M8t sut up\\r\",\"'Cause if you think I care about you now\\r\",\"Walk away, you know how\\r\",\"I cut you off\\r\",\"I don't need your love, so you can try all you want\\r\",\"I if you need your love\\r\",\"So you (Tony it guo to me\\r\",\"If I would've known it, baby\\r\",\"I wonder that ot game, \\\"],\"HeducedMotion where you left me at all, so\\r\",\"If you don't wanna see me dancing with somebong to a fly one\\r\",\"Talkin' in my sleep\\r\",\"'Cause I'm all good already\\r\",\"I should've stayed at home? Don't you agah\\r\",\"You know he's only callin' 'cause he's fineve heard my songs\\r\",\"Well, I'm too busy fund if you mind\\r\",\"Two: Don't let him in, heavears me\\r\",\"I'm levitating\\r\",\"The Milky Way, we're renegading\\r\",\"\\r\",\"I got new rules, I count 'em\\r\",\"I gotta tell them to myself\\r\",\"I keep pund\n"
          ]
        }
      ],
      "source": [
        "import torch\n",
        "import torch.nn as nn\n",
        "from torch.nn import functional as F\n",
        "\n",
        "# hyperparameters\n",
        "batch_size = 16 # how many independent sequences will we process in parallel?\n",
        "block_size = 32 # what is the maximum context length for predictions?\n",
        "max_iters = 5000\n",
        "eval_interval = 100\n",
        "learning_rate = 1e-3\n",
        "device = 'cuda' if torch.cuda.is_available() else 'cpu'\n",
        "eval_iters = 200\n",
        "n_embd = 64\n",
        "n_head = 4\n",
        "n_layer = 4\n",
        "dropout = 0.0\n",
        "# ------------\n",
        "\n",
        "torch.manual_seed(1337)\n",
        "\n",
        "# wget https://raw.githubusercontent.com/karpathy/char-rnn/master/data/tinyshakespeare/input.txt\n",
        "with open('dua_lipa_songs.txt', 'r', encoding='utf-8') as f:\n",
        "    text = f.read()\n",
        "\n",
        "# here are all the unique characters that occur in this text\n",
        "chars = sorted(list(set(text)))\n",
        "vocab_size = len(chars)\n",
        "# create a mapping from characters to integers\n",
        "stoi = { ch:i for i,ch in enumerate(chars) }\n",
        "itos = { i:ch for i,ch in enumerate(chars) }\n",
        "encode = lambda s: [stoi[c] for c in s] # encoder: take a string, output a list of integers\n",
        "decode = lambda l: ''.join([itos[i] for i in l]) # decoder: take a list of integers, output a string\n",
        "\n",
        "# Train and test splits\n",
        "data = torch.tensor(encode(text), dtype=torch.long)\n",
        "n = int(0.9*len(data)) # first 90% will be train, rest val\n",
        "train_data = data[:n]\n",
        "val_data = data[n:]\n",
        "\n",
        "# data loading\n",
        "def get_batch(split):\n",
        "    # generate a small batch of data of inputs x and targets y\n",
        "    data = train_data if split == 'train' else val_data\n",
        "    ix = torch.randint(len(data) - block_size, (batch_size,))\n",
        "    x = torch.stack([data[i:i+block_size] for i in ix])\n",
        "    y = torch.stack([data[i+1:i+block_size+1] for i in ix])\n",
        "    x, y = x.to(device), y.to(device)\n",
        "    return x, y\n",
        "\n",
        "@torch.no_grad()\n",
        "def estimate_loss():\n",
        "    out = {}\n",
        "    model.eval()\n",
        "    for split in ['train', 'val']:\n",
        "        losses = torch.zeros(eval_iters)\n",
        "        for k in range(eval_iters):\n",
        "            X, Y = get_batch(split)\n",
        "            logits, loss = model(X, Y)\n",
        "            losses[k] = loss.item()\n",
        "        out[split] = losses.mean()\n",
        "    model.train()\n",
        "    return out\n",
        "\n",
        "class Head(nn.Module):\n",
        "    \"\"\" one head of self-attention \"\"\"\n",
        "\n",
        "    def __init__(self, head_size):\n",
        "        super().__init__()\n",
        "        self.key = nn.Linear(n_embd, head_size, bias=False)\n",
        "        self.query = nn.Linear(n_embd, head_size, bias=False)\n",
        "        self.value = nn.Linear(n_embd, head_size, bias=False)\n",
        "        self.register_buffer('tril', torch.tril(torch.ones(block_size, block_size)))\n",
        "\n",
        "        self.dropout = nn.Dropout(dropout)\n",
        "\n",
        "    def forward(self, x):\n",
        "        B,T,C = x.shape\n",
        "        k = self.key(x)   # (B,T,C)\n",
        "        q = self.query(x) # (B,T,C)\n",
        "        # compute attention scores (\"affinities\")\n",
        "        wei = q @ k.transpose(-2,-1) * C**-0.5 # (B, T, C) @ (B, C, T) -> (B, T, T)\n",
        "        wei = wei.masked_fill(self.tril[:T, :T] == 0, float('-inf')) # (B, T, T)\n",
        "        wei = F.softmax(wei, dim=-1) # (B, T, T)\n",
        "        wei = self.dropout(wei)\n",
        "        # perform the weighted aggregation of the values\n",
        "        v = self.value(x) # (B,T,C)\n",
        "        out = wei @ v # (B, T, T) @ (B, T, C) -> (B, T, C)\n",
        "        return out\n",
        "\n",
        "class MultiHeadAttention(nn.Module):\n",
        "    \"\"\" multiple heads of self-attention in parallel \"\"\"\n",
        "\n",
        "    def __init__(self, num_heads, head_size):\n",
        "        super().__init__()\n",
        "        self.heads = nn.ModuleList([Head(head_size) for _ in range(num_heads)])\n",
        "        self.proj = nn.Linear(n_embd, n_embd)\n",
        "        self.dropout = nn.Dropout(dropout)\n",
        "\n",
        "    def forward(self, x):\n",
        "        out = torch.cat([h(x) for h in self.heads], dim=-1)\n",
        "        out = self.dropout(self.proj(out))\n",
        "        return out\n",
        "\n",
        "class FeedFoward(nn.Module):\n",
        "    \"\"\" a simple linear layer followed by a non-linearity \"\"\"\n",
        "\n",
        "    def __init__(self, n_embd):\n",
        "        super().__init__()\n",
        "        self.net = nn.Sequential(\n",
        "            nn.Linear(n_embd, 4 * n_embd),\n",
        "            nn.ReLU(),\n",
        "            nn.Linear(4 * n_embd, n_embd),\n",
        "            nn.Dropout(dropout),\n",
        "        )\n",
        "\n",
        "    def forward(self, x):\n",
        "        return self.net(x)\n",
        "\n",
        "class Block(nn.Module):\n",
        "    \"\"\" Transformer block: communication followed by computation \"\"\"\n",
        "\n",
        "    def __init__(self, n_embd, n_head):\n",
        "        # n_embd: embedding dimension, n_head: the number of heads we'd like\n",
        "        super().__init__()\n",
        "        head_size = n_embd // n_head\n",
        "        self.sa = MultiHeadAttention(n_head, head_size)\n",
        "        self.ffwd = FeedFoward(n_embd)\n",
        "        self.ln1 = nn.LayerNorm(n_embd)\n",
        "        self.ln2 = nn.LayerNorm(n_embd)\n",
        "\n",
        "    def forward(self, x):\n",
        "        x = x + self.sa(self.ln1(x))\n",
        "        x = x + self.ffwd(self.ln2(x))\n",
        "        return x\n",
        "\n",
        "# super simple bigram model\n",
        "class BigramLanguageModel(nn.Module):\n",
        "\n",
        "    def __init__(self):\n",
        "        super().__init__()\n",
        "        # each token directly reads off the logits for the next token from a lookup table\n",
        "        self.token_embedding_table = nn.Embedding(vocab_size, n_embd)\n",
        "        self.position_embedding_table = nn.Embedding(block_size, n_embd)\n",
        "        self.blocks = nn.Sequential(*[Block(n_embd, n_head=n_head) for _ in range(n_layer)])\n",
        "        self.ln_f = nn.LayerNorm(n_embd) # final layer norm\n",
        "        self.lm_head = nn.Linear(n_embd, vocab_size)\n",
        "\n",
        "    def forward(self, idx, targets=None):\n",
        "        B, T = idx.shape\n",
        "\n",
        "        # idx and targets are both (B,T) tensor of integers\n",
        "        tok_emb = self.token_embedding_table(idx) # (B,T,C)\n",
        "        pos_emb = self.position_embedding_table(torch.arange(T, device=device)) # (T,C)\n",
        "        x = tok_emb + pos_emb # (B,T,C)\n",
        "        x = self.blocks(x) # (B,T,C)\n",
        "        x = self.ln_f(x) # (B,T,C)\n",
        "        logits = self.lm_head(x) # (B,T,vocab_size)\n",
        "\n",
        "        if targets is None:\n",
        "            loss = None\n",
        "        else:\n",
        "            B, T, C = logits.shape\n",
        "            logits = logits.view(B*T, C)\n",
        "            targets = targets.view(B*T)\n",
        "            loss = F.cross_entropy(logits, targets)\n",
        "\n",
        "        return logits, loss\n",
        "\n",
        "    def generate(self, idx, max_new_tokens):\n",
        "        # idx is (B, T) array of indices in the current context\n",
        "        for _ in range(max_new_tokens):\n",
        "            # crop idx to the last block_size tokens\n",
        "            idx_cond = idx[:, -block_size:]\n",
        "            # get the predictions\n",
        "            logits, loss = self(idx_cond)\n",
        "            # focus only on the last time step\n",
        "            logits = logits[:, -1, :] # becomes (B, C)\n",
        "            # apply softmax to get probabilities\n",
        "            probs = F.softmax(logits, dim=-1) # (B, C)\n",
        "            # sample from the distribution\n",
        "            idx_next = torch.multinomial(probs, num_samples=1) # (B, 1)\n",
        "            # append sampled index to the running sequence\n",
        "            idx = torch.cat((idx, idx_next), dim=1) # (B, T+1)\n",
        "        return idx\n",
        "\n",
        "model = BigramLanguageModel()\n",
        "m = model.to(device)\n",
        "# print the number of parameters in the model\n",
        "print(sum(p.numel() for p in m.parameters())/1e6, 'M parameters')\n",
        "\n",
        "# create a PyTorch optimizer\n",
        "optimizer = torch.optim.AdamW(model.parameters(), lr=learning_rate)\n",
        "\n",
        "for iter in range(max_iters):\n",
        "\n",
        "    # every once in a while evaluate the loss on train and val sets\n",
        "    if iter % eval_interval == 0 or iter == max_iters - 1:\n",
        "        losses = estimate_loss()\n",
        "        print(f\"step {iter}: train loss {losses['train']:.4f}, val loss {losses['val']:.4f}\")\n",
        "\n",
        "    # sample a batch of data\n",
        "    xb, yb = get_batch('train')\n",
        "\n",
        "    # evaluate the loss\n",
        "    logits, loss = model(xb, yb)\n",
        "    optimizer.zero_grad(set_to_none=True)\n",
        "    loss.backward()\n",
        "    optimizer.step()\n",
        "\n",
        "# generate from the model\n",
        "context = torch.zeros((1, 1), dtype=torch.long, device=device)\n",
        "print(decode(m.generate(context, max_new_tokens=2000)[0].tolist()))\n"
      ]
    },
    {
      "cell_type": "code",
      "execution_count": null,
      "metadata": {
        "id": "fjjvMifYZf7x"
      },
      "outputs": [],
      "source": []
    }
  ],
  "metadata": {
    "colab": {
      "provenance": []
    },
    "kernelspec": {
      "display_name": "Python 3",
      "name": "python3"
    },
    "language_info": {
      "name": "python"
    }
  },
  "nbformat": 4,
  "nbformat_minor": 0
}